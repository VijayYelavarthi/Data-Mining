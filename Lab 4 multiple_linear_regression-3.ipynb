{
 "cells": [
  {
   "cell_type": "code",
   "execution_count": null,
   "metadata": {
    "id": "8XBX4Js-iLcT"
   },
   "outputs": [],
   "source": [
    "from google.colab import files\n",
    "uploaded = files.upload()"
   ]
  },
  {
   "cell_type": "markdown",
   "metadata": {
    "id": "mzSjupC-rlzm"
   },
   "source": [
    "# Objective of the task is to predict the Profit of the state based on the other factors."
   ]
  },
  {
   "cell_type": "code",
   "execution_count": 1,
   "metadata": {
    "id": "UJgt7Pe4hBL9"
   },
   "outputs": [],
   "source": [
    "import numpy as np\n",
    "import pandas as pd\n",
    "import matplotlib\n",
    "import matplotlib.pyplot as plt\n",
    "# Your code to import numpy\n",
    "# Your code to import panda\n",
    "# Your code to import matplotlib"
   ]
  },
  {
   "cell_type": "code",
   "execution_count": 2,
   "metadata": {
    "id": "-PDHsuSxicT-"
   },
   "outputs": [
    {
     "data": {
      "text/html": [
       "<div>\n",
       "<style scoped>\n",
       "    .dataframe tbody tr th:only-of-type {\n",
       "        vertical-align: middle;\n",
       "    }\n",
       "\n",
       "    .dataframe tbody tr th {\n",
       "        vertical-align: top;\n",
       "    }\n",
       "\n",
       "    .dataframe thead th {\n",
       "        text-align: right;\n",
       "    }\n",
       "</style>\n",
       "<table border=\"1\" class=\"dataframe\">\n",
       "  <thead>\n",
       "    <tr style=\"text-align: right;\">\n",
       "      <th></th>\n",
       "      <th>R&amp;D Spend</th>\n",
       "      <th>Administration</th>\n",
       "      <th>Marketing Spend</th>\n",
       "      <th>State</th>\n",
       "      <th>Profit</th>\n",
       "    </tr>\n",
       "  </thead>\n",
       "  <tbody>\n",
       "    <tr>\n",
       "      <th>0</th>\n",
       "      <td>165349.20</td>\n",
       "      <td>136897.80</td>\n",
       "      <td>471784.10</td>\n",
       "      <td>New York</td>\n",
       "      <td>192261.83</td>\n",
       "    </tr>\n",
       "    <tr>\n",
       "      <th>1</th>\n",
       "      <td>162597.70</td>\n",
       "      <td>151377.59</td>\n",
       "      <td>443898.53</td>\n",
       "      <td>California</td>\n",
       "      <td>191792.06</td>\n",
       "    </tr>\n",
       "    <tr>\n",
       "      <th>2</th>\n",
       "      <td>153441.51</td>\n",
       "      <td>101145.55</td>\n",
       "      <td>407934.54</td>\n",
       "      <td>Florida</td>\n",
       "      <td>191050.39</td>\n",
       "    </tr>\n",
       "    <tr>\n",
       "      <th>3</th>\n",
       "      <td>144372.41</td>\n",
       "      <td>118671.85</td>\n",
       "      <td>383199.62</td>\n",
       "      <td>New York</td>\n",
       "      <td>182901.99</td>\n",
       "    </tr>\n",
       "    <tr>\n",
       "      <th>4</th>\n",
       "      <td>142107.34</td>\n",
       "      <td>91391.77</td>\n",
       "      <td>366168.42</td>\n",
       "      <td>Florida</td>\n",
       "      <td>166187.94</td>\n",
       "    </tr>\n",
       "  </tbody>\n",
       "</table>\n",
       "</div>"
      ],
      "text/plain": [
       "   R&D Spend  Administration  Marketing Spend       State     Profit\n",
       "0  165349.20       136897.80        471784.10    New York  192261.83\n",
       "1  162597.70       151377.59        443898.53  California  191792.06\n",
       "2  153441.51       101145.55        407934.54     Florida  191050.39\n",
       "3  144372.41       118671.85        383199.62    New York  182901.99\n",
       "4  142107.34        91391.77        366168.42     Florida  166187.94"
      ]
     },
     "execution_count": 2,
     "metadata": {},
     "output_type": "execute_result"
    }
   ],
   "source": [
    "dataset=pd.read_csv(\"50_startups.csv\")\n",
    "dataset.head()\n",
    "\n",
    "# Your code to read file\n",
    "# Your code to print sample data"
   ]
  },
  {
   "cell_type": "markdown",
   "metadata": {
    "id": "27F819fqr0MK"
   },
   "source": [
    "# Separate the independednt and Dependent variables.\n",
    "# Profit is the dependedent variable\n",
    "\n",
    "## What is the role of the axis and inplace in following code?"
   ]
  },
  {
   "cell_type": "code",
   "execution_count": 3,
   "metadata": {
    "id": "LUXxD-gViltR"
   },
   "outputs": [],
   "source": [
    "y = np.asarray(dataset['Profit'].values.tolist())\n",
    "\n",
    "dataset.drop([\"Profit\"], axis = 1, inplace = True)"
   ]
  },
  {
   "cell_type": "markdown",
   "metadata": {
    "id": "W8d-0FfnsN0O"
   },
   "source": [
    "# We will convert  Categorical Variable values \"State\" to numbers with the One Hot Encoding Technique\n",
    "\n",
    "# Initially, we will counts value that the feature \"State\" can take.\n",
    "\n",
    "# Remember .value_counts() function"
   ]
  },
  {
   "cell_type": "code",
   "execution_count": 4,
   "metadata": {
    "id": "M3CB3Ct9i4an"
   },
   "outputs": [
    {
     "data": {
      "text/plain": [
       "New York      17\n",
       "California    17\n",
       "Florida       16\n",
       "Name: State, dtype: int64"
      ]
     },
     "execution_count": 4,
     "metadata": {},
     "output_type": "execute_result"
    }
   ],
   "source": [
    "dataset.iloc[:,3].value_counts()"
   ]
  },
  {
   "cell_type": "markdown",
   "metadata": {
    "id": "_WSSeKczss1U"
   },
   "source": [
    "# Replacing the three states by the numbers 1, 2, 3.\n",
    "# This is also called as the LabelEncoding"
   ]
  },
  {
   "cell_type": "code",
   "execution_count": 5,
   "metadata": {
    "id": "RonZ0XJVi7VO"
   },
   "outputs": [
    {
     "data": {
      "text/html": [
       "<div>\n",
       "<style scoped>\n",
       "    .dataframe tbody tr th:only-of-type {\n",
       "        vertical-align: middle;\n",
       "    }\n",
       "\n",
       "    .dataframe tbody tr th {\n",
       "        vertical-align: top;\n",
       "    }\n",
       "\n",
       "    .dataframe thead th {\n",
       "        text-align: right;\n",
       "    }\n",
       "</style>\n",
       "<table border=\"1\" class=\"dataframe\">\n",
       "  <thead>\n",
       "    <tr style=\"text-align: right;\">\n",
       "      <th></th>\n",
       "      <th>R&amp;D Spend</th>\n",
       "      <th>Administration</th>\n",
       "      <th>Marketing Spend</th>\n",
       "      <th>State</th>\n",
       "    </tr>\n",
       "  </thead>\n",
       "  <tbody>\n",
       "    <tr>\n",
       "      <th>0</th>\n",
       "      <td>165349.20</td>\n",
       "      <td>136897.80</td>\n",
       "      <td>471784.10</td>\n",
       "      <td>2</td>\n",
       "    </tr>\n",
       "    <tr>\n",
       "      <th>1</th>\n",
       "      <td>162597.70</td>\n",
       "      <td>151377.59</td>\n",
       "      <td>443898.53</td>\n",
       "      <td>1</td>\n",
       "    </tr>\n",
       "    <tr>\n",
       "      <th>2</th>\n",
       "      <td>153441.51</td>\n",
       "      <td>101145.55</td>\n",
       "      <td>407934.54</td>\n",
       "      <td>3</td>\n",
       "    </tr>\n",
       "    <tr>\n",
       "      <th>3</th>\n",
       "      <td>144372.41</td>\n",
       "      <td>118671.85</td>\n",
       "      <td>383199.62</td>\n",
       "      <td>2</td>\n",
       "    </tr>\n",
       "    <tr>\n",
       "      <th>4</th>\n",
       "      <td>142107.34</td>\n",
       "      <td>91391.77</td>\n",
       "      <td>366168.42</td>\n",
       "      <td>3</td>\n",
       "    </tr>\n",
       "    <tr>\n",
       "      <th>5</th>\n",
       "      <td>131876.90</td>\n",
       "      <td>99814.71</td>\n",
       "      <td>362861.36</td>\n",
       "      <td>2</td>\n",
       "    </tr>\n",
       "    <tr>\n",
       "      <th>6</th>\n",
       "      <td>134615.46</td>\n",
       "      <td>147198.87</td>\n",
       "      <td>127716.82</td>\n",
       "      <td>1</td>\n",
       "    </tr>\n",
       "    <tr>\n",
       "      <th>7</th>\n",
       "      <td>130298.13</td>\n",
       "      <td>145530.06</td>\n",
       "      <td>323876.68</td>\n",
       "      <td>3</td>\n",
       "    </tr>\n",
       "    <tr>\n",
       "      <th>8</th>\n",
       "      <td>120542.52</td>\n",
       "      <td>148718.95</td>\n",
       "      <td>311613.29</td>\n",
       "      <td>2</td>\n",
       "    </tr>\n",
       "    <tr>\n",
       "      <th>9</th>\n",
       "      <td>123334.88</td>\n",
       "      <td>108679.17</td>\n",
       "      <td>304981.62</td>\n",
       "      <td>1</td>\n",
       "    </tr>\n",
       "    <tr>\n",
       "      <th>10</th>\n",
       "      <td>101913.08</td>\n",
       "      <td>110594.11</td>\n",
       "      <td>229160.95</td>\n",
       "      <td>3</td>\n",
       "    </tr>\n",
       "    <tr>\n",
       "      <th>11</th>\n",
       "      <td>100671.96</td>\n",
       "      <td>91790.61</td>\n",
       "      <td>249744.55</td>\n",
       "      <td>1</td>\n",
       "    </tr>\n",
       "    <tr>\n",
       "      <th>12</th>\n",
       "      <td>93863.75</td>\n",
       "      <td>127320.38</td>\n",
       "      <td>249839.44</td>\n",
       "      <td>3</td>\n",
       "    </tr>\n",
       "    <tr>\n",
       "      <th>13</th>\n",
       "      <td>91992.39</td>\n",
       "      <td>135495.07</td>\n",
       "      <td>252664.93</td>\n",
       "      <td>1</td>\n",
       "    </tr>\n",
       "    <tr>\n",
       "      <th>14</th>\n",
       "      <td>119943.24</td>\n",
       "      <td>156547.42</td>\n",
       "      <td>256512.92</td>\n",
       "      <td>3</td>\n",
       "    </tr>\n",
       "    <tr>\n",
       "      <th>15</th>\n",
       "      <td>114523.61</td>\n",
       "      <td>122616.84</td>\n",
       "      <td>261776.23</td>\n",
       "      <td>2</td>\n",
       "    </tr>\n",
       "    <tr>\n",
       "      <th>16</th>\n",
       "      <td>78013.11</td>\n",
       "      <td>121597.55</td>\n",
       "      <td>264346.06</td>\n",
       "      <td>1</td>\n",
       "    </tr>\n",
       "    <tr>\n",
       "      <th>17</th>\n",
       "      <td>94657.16</td>\n",
       "      <td>145077.58</td>\n",
       "      <td>282574.31</td>\n",
       "      <td>2</td>\n",
       "    </tr>\n",
       "    <tr>\n",
       "      <th>18</th>\n",
       "      <td>91749.16</td>\n",
       "      <td>114175.79</td>\n",
       "      <td>294919.57</td>\n",
       "      <td>3</td>\n",
       "    </tr>\n",
       "    <tr>\n",
       "      <th>19</th>\n",
       "      <td>86419.70</td>\n",
       "      <td>153514.11</td>\n",
       "      <td>0.00</td>\n",
       "      <td>2</td>\n",
       "    </tr>\n",
       "    <tr>\n",
       "      <th>20</th>\n",
       "      <td>76253.86</td>\n",
       "      <td>113867.30</td>\n",
       "      <td>298664.47</td>\n",
       "      <td>1</td>\n",
       "    </tr>\n",
       "    <tr>\n",
       "      <th>21</th>\n",
       "      <td>78389.47</td>\n",
       "      <td>153773.43</td>\n",
       "      <td>299737.29</td>\n",
       "      <td>2</td>\n",
       "    </tr>\n",
       "    <tr>\n",
       "      <th>22</th>\n",
       "      <td>73994.56</td>\n",
       "      <td>122782.75</td>\n",
       "      <td>303319.26</td>\n",
       "      <td>3</td>\n",
       "    </tr>\n",
       "    <tr>\n",
       "      <th>23</th>\n",
       "      <td>67532.53</td>\n",
       "      <td>105751.03</td>\n",
       "      <td>304768.73</td>\n",
       "      <td>3</td>\n",
       "    </tr>\n",
       "    <tr>\n",
       "      <th>24</th>\n",
       "      <td>77044.01</td>\n",
       "      <td>99281.34</td>\n",
       "      <td>140574.81</td>\n",
       "      <td>2</td>\n",
       "    </tr>\n",
       "    <tr>\n",
       "      <th>25</th>\n",
       "      <td>64664.71</td>\n",
       "      <td>139553.16</td>\n",
       "      <td>137962.62</td>\n",
       "      <td>1</td>\n",
       "    </tr>\n",
       "    <tr>\n",
       "      <th>26</th>\n",
       "      <td>75328.87</td>\n",
       "      <td>144135.98</td>\n",
       "      <td>134050.07</td>\n",
       "      <td>3</td>\n",
       "    </tr>\n",
       "    <tr>\n",
       "      <th>27</th>\n",
       "      <td>72107.60</td>\n",
       "      <td>127864.55</td>\n",
       "      <td>353183.81</td>\n",
       "      <td>2</td>\n",
       "    </tr>\n",
       "    <tr>\n",
       "      <th>28</th>\n",
       "      <td>66051.52</td>\n",
       "      <td>182645.56</td>\n",
       "      <td>118148.20</td>\n",
       "      <td>3</td>\n",
       "    </tr>\n",
       "    <tr>\n",
       "      <th>29</th>\n",
       "      <td>65605.48</td>\n",
       "      <td>153032.06</td>\n",
       "      <td>107138.38</td>\n",
       "      <td>2</td>\n",
       "    </tr>\n",
       "    <tr>\n",
       "      <th>30</th>\n",
       "      <td>61994.48</td>\n",
       "      <td>115641.28</td>\n",
       "      <td>91131.24</td>\n",
       "      <td>3</td>\n",
       "    </tr>\n",
       "    <tr>\n",
       "      <th>31</th>\n",
       "      <td>61136.38</td>\n",
       "      <td>152701.92</td>\n",
       "      <td>88218.23</td>\n",
       "      <td>2</td>\n",
       "    </tr>\n",
       "    <tr>\n",
       "      <th>32</th>\n",
       "      <td>63408.86</td>\n",
       "      <td>129219.61</td>\n",
       "      <td>46085.25</td>\n",
       "      <td>1</td>\n",
       "    </tr>\n",
       "    <tr>\n",
       "      <th>33</th>\n",
       "      <td>55493.95</td>\n",
       "      <td>103057.49</td>\n",
       "      <td>214634.81</td>\n",
       "      <td>3</td>\n",
       "    </tr>\n",
       "    <tr>\n",
       "      <th>34</th>\n",
       "      <td>46426.07</td>\n",
       "      <td>157693.92</td>\n",
       "      <td>210797.67</td>\n",
       "      <td>1</td>\n",
       "    </tr>\n",
       "    <tr>\n",
       "      <th>35</th>\n",
       "      <td>46014.02</td>\n",
       "      <td>85047.44</td>\n",
       "      <td>205517.64</td>\n",
       "      <td>2</td>\n",
       "    </tr>\n",
       "    <tr>\n",
       "      <th>36</th>\n",
       "      <td>28663.76</td>\n",
       "      <td>127056.21</td>\n",
       "      <td>201126.82</td>\n",
       "      <td>3</td>\n",
       "    </tr>\n",
       "    <tr>\n",
       "      <th>37</th>\n",
       "      <td>44069.95</td>\n",
       "      <td>51283.14</td>\n",
       "      <td>197029.42</td>\n",
       "      <td>1</td>\n",
       "    </tr>\n",
       "    <tr>\n",
       "      <th>38</th>\n",
       "      <td>20229.59</td>\n",
       "      <td>65947.93</td>\n",
       "      <td>185265.10</td>\n",
       "      <td>2</td>\n",
       "    </tr>\n",
       "    <tr>\n",
       "      <th>39</th>\n",
       "      <td>38558.51</td>\n",
       "      <td>82982.09</td>\n",
       "      <td>174999.30</td>\n",
       "      <td>1</td>\n",
       "    </tr>\n",
       "    <tr>\n",
       "      <th>40</th>\n",
       "      <td>28754.33</td>\n",
       "      <td>118546.05</td>\n",
       "      <td>172795.67</td>\n",
       "      <td>1</td>\n",
       "    </tr>\n",
       "    <tr>\n",
       "      <th>41</th>\n",
       "      <td>27892.92</td>\n",
       "      <td>84710.77</td>\n",
       "      <td>164470.71</td>\n",
       "      <td>3</td>\n",
       "    </tr>\n",
       "    <tr>\n",
       "      <th>42</th>\n",
       "      <td>23640.93</td>\n",
       "      <td>96189.63</td>\n",
       "      <td>148001.11</td>\n",
       "      <td>1</td>\n",
       "    </tr>\n",
       "    <tr>\n",
       "      <th>43</th>\n",
       "      <td>15505.73</td>\n",
       "      <td>127382.30</td>\n",
       "      <td>35534.17</td>\n",
       "      <td>2</td>\n",
       "    </tr>\n",
       "    <tr>\n",
       "      <th>44</th>\n",
       "      <td>22177.74</td>\n",
       "      <td>154806.14</td>\n",
       "      <td>28334.72</td>\n",
       "      <td>1</td>\n",
       "    </tr>\n",
       "    <tr>\n",
       "      <th>45</th>\n",
       "      <td>1000.23</td>\n",
       "      <td>124153.04</td>\n",
       "      <td>1903.93</td>\n",
       "      <td>2</td>\n",
       "    </tr>\n",
       "    <tr>\n",
       "      <th>46</th>\n",
       "      <td>1315.46</td>\n",
       "      <td>115816.21</td>\n",
       "      <td>297114.46</td>\n",
       "      <td>3</td>\n",
       "    </tr>\n",
       "    <tr>\n",
       "      <th>47</th>\n",
       "      <td>0.00</td>\n",
       "      <td>135426.92</td>\n",
       "      <td>0.00</td>\n",
       "      <td>1</td>\n",
       "    </tr>\n",
       "    <tr>\n",
       "      <th>48</th>\n",
       "      <td>542.05</td>\n",
       "      <td>51743.15</td>\n",
       "      <td>0.00</td>\n",
       "      <td>2</td>\n",
       "    </tr>\n",
       "    <tr>\n",
       "      <th>49</th>\n",
       "      <td>0.00</td>\n",
       "      <td>116983.80</td>\n",
       "      <td>45173.06</td>\n",
       "      <td>1</td>\n",
       "    </tr>\n",
       "  </tbody>\n",
       "</table>\n",
       "</div>"
      ],
      "text/plain": [
       "    R&D Spend  Administration  Marketing Spend  State\n",
       "0   165349.20       136897.80        471784.10      2\n",
       "1   162597.70       151377.59        443898.53      1\n",
       "2   153441.51       101145.55        407934.54      3\n",
       "3   144372.41       118671.85        383199.62      2\n",
       "4   142107.34        91391.77        366168.42      3\n",
       "5   131876.90        99814.71        362861.36      2\n",
       "6   134615.46       147198.87        127716.82      1\n",
       "7   130298.13       145530.06        323876.68      3\n",
       "8   120542.52       148718.95        311613.29      2\n",
       "9   123334.88       108679.17        304981.62      1\n",
       "10  101913.08       110594.11        229160.95      3\n",
       "11  100671.96        91790.61        249744.55      1\n",
       "12   93863.75       127320.38        249839.44      3\n",
       "13   91992.39       135495.07        252664.93      1\n",
       "14  119943.24       156547.42        256512.92      3\n",
       "15  114523.61       122616.84        261776.23      2\n",
       "16   78013.11       121597.55        264346.06      1\n",
       "17   94657.16       145077.58        282574.31      2\n",
       "18   91749.16       114175.79        294919.57      3\n",
       "19   86419.70       153514.11             0.00      2\n",
       "20   76253.86       113867.30        298664.47      1\n",
       "21   78389.47       153773.43        299737.29      2\n",
       "22   73994.56       122782.75        303319.26      3\n",
       "23   67532.53       105751.03        304768.73      3\n",
       "24   77044.01        99281.34        140574.81      2\n",
       "25   64664.71       139553.16        137962.62      1\n",
       "26   75328.87       144135.98        134050.07      3\n",
       "27   72107.60       127864.55        353183.81      2\n",
       "28   66051.52       182645.56        118148.20      3\n",
       "29   65605.48       153032.06        107138.38      2\n",
       "30   61994.48       115641.28         91131.24      3\n",
       "31   61136.38       152701.92         88218.23      2\n",
       "32   63408.86       129219.61         46085.25      1\n",
       "33   55493.95       103057.49        214634.81      3\n",
       "34   46426.07       157693.92        210797.67      1\n",
       "35   46014.02        85047.44        205517.64      2\n",
       "36   28663.76       127056.21        201126.82      3\n",
       "37   44069.95        51283.14        197029.42      1\n",
       "38   20229.59        65947.93        185265.10      2\n",
       "39   38558.51        82982.09        174999.30      1\n",
       "40   28754.33       118546.05        172795.67      1\n",
       "41   27892.92        84710.77        164470.71      3\n",
       "42   23640.93        96189.63        148001.11      1\n",
       "43   15505.73       127382.30         35534.17      2\n",
       "44   22177.74       154806.14         28334.72      1\n",
       "45    1000.23       124153.04          1903.93      2\n",
       "46    1315.46       115816.21        297114.46      3\n",
       "47       0.00       135426.92             0.00      1\n",
       "48     542.05        51743.15             0.00      2\n",
       "49       0.00       116983.80         45173.06      1"
      ]
     },
     "execution_count": 5,
     "metadata": {},
     "output_type": "execute_result"
    }
   ],
   "source": [
    "dataset.replace(to_replace=[\"California\",\"New York\", \"Florida\"], value=[1,2,3])"
   ]
  },
  {
   "cell_type": "markdown",
   "metadata": {
    "id": "kQungUWgtBIL"
   },
   "source": [
    "# We will create 3 more columns for the three states."
   ]
  },
  {
   "cell_type": "code",
   "execution_count": 6,
   "metadata": {
    "id": "sEz2FMUfi9gK"
   },
   "outputs": [],
   "source": [
    "dataset[\"California\"] = dataset.iloc[:, 3]\n",
    "dataset[\"New York\"] = dataset.iloc[:,3]\n",
    "dataset[\"Florida\"] = dataset.iloc[:,3]"
   ]
  },
  {
   "cell_type": "markdown",
   "metadata": {
    "id": "unUvog8WtNpu"
   },
   "source": [
    "# Check how the dataset looks now"
   ]
  },
  {
   "cell_type": "code",
   "execution_count": 7,
   "metadata": {
    "id": "98teOtjzjIp2"
   },
   "outputs": [
    {
     "data": {
      "text/html": [
       "<div>\n",
       "<style scoped>\n",
       "    .dataframe tbody tr th:only-of-type {\n",
       "        vertical-align: middle;\n",
       "    }\n",
       "\n",
       "    .dataframe tbody tr th {\n",
       "        vertical-align: top;\n",
       "    }\n",
       "\n",
       "    .dataframe thead th {\n",
       "        text-align: right;\n",
       "    }\n",
       "</style>\n",
       "<table border=\"1\" class=\"dataframe\">\n",
       "  <thead>\n",
       "    <tr style=\"text-align: right;\">\n",
       "      <th></th>\n",
       "      <th>R&amp;D Spend</th>\n",
       "      <th>Administration</th>\n",
       "      <th>Marketing Spend</th>\n",
       "      <th>State</th>\n",
       "      <th>California</th>\n",
       "      <th>New York</th>\n",
       "      <th>Florida</th>\n",
       "    </tr>\n",
       "  </thead>\n",
       "  <tbody>\n",
       "    <tr>\n",
       "      <th>0</th>\n",
       "      <td>165349.20</td>\n",
       "      <td>136897.80</td>\n",
       "      <td>471784.10</td>\n",
       "      <td>New York</td>\n",
       "      <td>New York</td>\n",
       "      <td>New York</td>\n",
       "      <td>New York</td>\n",
       "    </tr>\n",
       "    <tr>\n",
       "      <th>1</th>\n",
       "      <td>162597.70</td>\n",
       "      <td>151377.59</td>\n",
       "      <td>443898.53</td>\n",
       "      <td>California</td>\n",
       "      <td>California</td>\n",
       "      <td>California</td>\n",
       "      <td>California</td>\n",
       "    </tr>\n",
       "    <tr>\n",
       "      <th>2</th>\n",
       "      <td>153441.51</td>\n",
       "      <td>101145.55</td>\n",
       "      <td>407934.54</td>\n",
       "      <td>Florida</td>\n",
       "      <td>Florida</td>\n",
       "      <td>Florida</td>\n",
       "      <td>Florida</td>\n",
       "    </tr>\n",
       "    <tr>\n",
       "      <th>3</th>\n",
       "      <td>144372.41</td>\n",
       "      <td>118671.85</td>\n",
       "      <td>383199.62</td>\n",
       "      <td>New York</td>\n",
       "      <td>New York</td>\n",
       "      <td>New York</td>\n",
       "      <td>New York</td>\n",
       "    </tr>\n",
       "    <tr>\n",
       "      <th>4</th>\n",
       "      <td>142107.34</td>\n",
       "      <td>91391.77</td>\n",
       "      <td>366168.42</td>\n",
       "      <td>Florida</td>\n",
       "      <td>Florida</td>\n",
       "      <td>Florida</td>\n",
       "      <td>Florida</td>\n",
       "    </tr>\n",
       "  </tbody>\n",
       "</table>\n",
       "</div>"
      ],
      "text/plain": [
       "   R&D Spend  Administration  Marketing Spend       State  California  \\\n",
       "0  165349.20       136897.80        471784.10    New York    New York   \n",
       "1  162597.70       151377.59        443898.53  California  California   \n",
       "2  153441.51       101145.55        407934.54     Florida     Florida   \n",
       "3  144372.41       118671.85        383199.62    New York    New York   \n",
       "4  142107.34        91391.77        366168.42     Florida     Florida   \n",
       "\n",
       "     New York     Florida  \n",
       "0    New York    New York  \n",
       "1  California  California  \n",
       "2     Florida     Florida  \n",
       "3    New York    New York  \n",
       "4     Florida     Florida  "
      ]
     },
     "execution_count": 7,
     "metadata": {},
     "output_type": "execute_result"
    }
   ],
   "source": [
    "dataset.head()\n",
    "# Your code to print few samples of dataset."
   ]
  },
  {
   "cell_type": "markdown",
   "metadata": {
    "id": "OoLuUTSBtVZj"
   },
   "source": [
    "# Performing one hot encoding for the column Calfornia.\n",
    "## Replace text 'California' with 1 and others with 0 for this column."
   ]
  },
  {
   "cell_type": "code",
   "execution_count": 8,
   "metadata": {
    "id": "ZABX9aatjLdw"
   },
   "outputs": [],
   "source": [
    "dataset.loc[dataset[\"California\"]!=\"California\", \"California\"] = 0\n",
    "dataset.loc[dataset[\"California\"]==\"California\", \"California\"] = 1"
   ]
  },
  {
   "cell_type": "markdown",
   "metadata": {
    "id": "Rrqbptyntrgw"
   },
   "source": [
    "# Perform the one hot encoding for New York and the Florida column"
   ]
  },
  {
   "cell_type": "code",
   "execution_count": 9,
   "metadata": {
    "id": "6zcJTPVxjPYk"
   },
   "outputs": [],
   "source": [
    "dataset.loc[dataset[\"New York\"]!=\"New York\", \"New York\"] = 0\n",
    "dataset.loc[dataset[\"New York\"]==\"New York\", \"New York\"] = 1\n",
    "# Your code to perform one hot encoding for New York column."
   ]
  },
  {
   "cell_type": "code",
   "execution_count": 10,
   "metadata": {
    "id": "XnoCxjbejSmN"
   },
   "outputs": [],
   "source": [
    "dataset.loc[dataset[\"Florida\"]!=\"Florida\", \"Florida\"] = 0\n",
    "dataset.loc[dataset[\"Florida\"]==\"Florida\", \"Florida\"] = 1\n",
    "# Your code to perform one hot encoding for Florida column."
   ]
  },
  {
   "cell_type": "markdown",
   "metadata": {
    "id": "Of9U6eX4uGwj"
   },
   "source": [
    "# Now look at the dataset\n",
    "## Can you find the state name from numbers in last three columns only?"
   ]
  },
  {
   "cell_type": "code",
   "execution_count": 11,
   "metadata": {
    "id": "4JUs_zpLjV_e"
   },
   "outputs": [
    {
     "data": {
      "text/html": [
       "<div>\n",
       "<style scoped>\n",
       "    .dataframe tbody tr th:only-of-type {\n",
       "        vertical-align: middle;\n",
       "    }\n",
       "\n",
       "    .dataframe tbody tr th {\n",
       "        vertical-align: top;\n",
       "    }\n",
       "\n",
       "    .dataframe thead th {\n",
       "        text-align: right;\n",
       "    }\n",
       "</style>\n",
       "<table border=\"1\" class=\"dataframe\">\n",
       "  <thead>\n",
       "    <tr style=\"text-align: right;\">\n",
       "      <th></th>\n",
       "      <th>R&amp;D Spend</th>\n",
       "      <th>Administration</th>\n",
       "      <th>Marketing Spend</th>\n",
       "      <th>State</th>\n",
       "      <th>California</th>\n",
       "      <th>New York</th>\n",
       "      <th>Florida</th>\n",
       "    </tr>\n",
       "  </thead>\n",
       "  <tbody>\n",
       "    <tr>\n",
       "      <th>0</th>\n",
       "      <td>165349.20</td>\n",
       "      <td>136897.80</td>\n",
       "      <td>471784.10</td>\n",
       "      <td>New York</td>\n",
       "      <td>0</td>\n",
       "      <td>1</td>\n",
       "      <td>0</td>\n",
       "    </tr>\n",
       "    <tr>\n",
       "      <th>1</th>\n",
       "      <td>162597.70</td>\n",
       "      <td>151377.59</td>\n",
       "      <td>443898.53</td>\n",
       "      <td>California</td>\n",
       "      <td>1</td>\n",
       "      <td>0</td>\n",
       "      <td>0</td>\n",
       "    </tr>\n",
       "    <tr>\n",
       "      <th>2</th>\n",
       "      <td>153441.51</td>\n",
       "      <td>101145.55</td>\n",
       "      <td>407934.54</td>\n",
       "      <td>Florida</td>\n",
       "      <td>0</td>\n",
       "      <td>0</td>\n",
       "      <td>1</td>\n",
       "    </tr>\n",
       "    <tr>\n",
       "      <th>3</th>\n",
       "      <td>144372.41</td>\n",
       "      <td>118671.85</td>\n",
       "      <td>383199.62</td>\n",
       "      <td>New York</td>\n",
       "      <td>0</td>\n",
       "      <td>1</td>\n",
       "      <td>0</td>\n",
       "    </tr>\n",
       "    <tr>\n",
       "      <th>4</th>\n",
       "      <td>142107.34</td>\n",
       "      <td>91391.77</td>\n",
       "      <td>366168.42</td>\n",
       "      <td>Florida</td>\n",
       "      <td>0</td>\n",
       "      <td>0</td>\n",
       "      <td>1</td>\n",
       "    </tr>\n",
       "  </tbody>\n",
       "</table>\n",
       "</div>"
      ],
      "text/plain": [
       "   R&D Spend  Administration  Marketing Spend       State California New York  \\\n",
       "0  165349.20       136897.80        471784.10    New York          0        1   \n",
       "1  162597.70       151377.59        443898.53  California          1        0   \n",
       "2  153441.51       101145.55        407934.54     Florida          0        0   \n",
       "3  144372.41       118671.85        383199.62    New York          0        1   \n",
       "4  142107.34        91391.77        366168.42     Florida          0        0   \n",
       "\n",
       "  Florida  \n",
       "0       0  \n",
       "1       0  \n",
       "2       1  \n",
       "3       0  \n",
       "4       1  "
      ]
     },
     "execution_count": 11,
     "metadata": {},
     "output_type": "execute_result"
    }
   ],
   "source": [
    "dataset.head()\n",
    "\n",
    "# Your code to print sample"
   ]
  },
  {
   "cell_type": "markdown",
   "metadata": {
    "id": "8Dm80EXTuX8w"
   },
   "source": [
    "# Drop the State and one of the three states column.\n",
    "## Question - Why we are dropping one column for the state?"
   ]
  },
  {
   "cell_type": "code",
   "execution_count": 12,
   "metadata": {
    "id": "hAFgpUrmjZbp"
   },
   "outputs": [],
   "source": [
    "dataset.drop([\"State\", \"Florida\"], axis= 1, inplace= True)\n",
    "# Your code to drop State and Florida column"
   ]
  },
  {
   "cell_type": "markdown",
   "metadata": {
    "id": "R4kE329ku90q"
   },
   "source": [
    "# Lets's check the dataset again.\n",
    "## Question - Can you guess the name of three states from the numbers (1/0) in last two column?"
   ]
  },
  {
   "cell_type": "code",
   "execution_count": 13,
   "metadata": {
    "id": "9JtxL7LPj-Ze"
   },
   "outputs": [
    {
     "data": {
      "text/html": [
       "<div>\n",
       "<style scoped>\n",
       "    .dataframe tbody tr th:only-of-type {\n",
       "        vertical-align: middle;\n",
       "    }\n",
       "\n",
       "    .dataframe tbody tr th {\n",
       "        vertical-align: top;\n",
       "    }\n",
       "\n",
       "    .dataframe thead th {\n",
       "        text-align: right;\n",
       "    }\n",
       "</style>\n",
       "<table border=\"1\" class=\"dataframe\">\n",
       "  <thead>\n",
       "    <tr style=\"text-align: right;\">\n",
       "      <th></th>\n",
       "      <th>R&amp;D Spend</th>\n",
       "      <th>Administration</th>\n",
       "      <th>Marketing Spend</th>\n",
       "      <th>California</th>\n",
       "      <th>New York</th>\n",
       "    </tr>\n",
       "  </thead>\n",
       "  <tbody>\n",
       "    <tr>\n",
       "      <th>0</th>\n",
       "      <td>165349.20</td>\n",
       "      <td>136897.80</td>\n",
       "      <td>471784.10</td>\n",
       "      <td>0</td>\n",
       "      <td>1</td>\n",
       "    </tr>\n",
       "    <tr>\n",
       "      <th>1</th>\n",
       "      <td>162597.70</td>\n",
       "      <td>151377.59</td>\n",
       "      <td>443898.53</td>\n",
       "      <td>1</td>\n",
       "      <td>0</td>\n",
       "    </tr>\n",
       "    <tr>\n",
       "      <th>2</th>\n",
       "      <td>153441.51</td>\n",
       "      <td>101145.55</td>\n",
       "      <td>407934.54</td>\n",
       "      <td>0</td>\n",
       "      <td>0</td>\n",
       "    </tr>\n",
       "    <tr>\n",
       "      <th>3</th>\n",
       "      <td>144372.41</td>\n",
       "      <td>118671.85</td>\n",
       "      <td>383199.62</td>\n",
       "      <td>0</td>\n",
       "      <td>1</td>\n",
       "    </tr>\n",
       "    <tr>\n",
       "      <th>4</th>\n",
       "      <td>142107.34</td>\n",
       "      <td>91391.77</td>\n",
       "      <td>366168.42</td>\n",
       "      <td>0</td>\n",
       "      <td>0</td>\n",
       "    </tr>\n",
       "  </tbody>\n",
       "</table>\n",
       "</div>"
      ],
      "text/plain": [
       "   R&D Spend  Administration  Marketing Spend California New York\n",
       "0  165349.20       136897.80        471784.10          0        1\n",
       "1  162597.70       151377.59        443898.53          1        0\n",
       "2  153441.51       101145.55        407934.54          0        0\n",
       "3  144372.41       118671.85        383199.62          0        1\n",
       "4  142107.34        91391.77        366168.42          0        0"
      ]
     },
     "execution_count": 13,
     "metadata": {},
     "output_type": "execute_result"
    }
   ],
   "source": [
    "# Your code to print sample dataset.\n",
    "dataset.head()"
   ]
  },
  {
   "cell_type": "markdown",
   "metadata": {
    "id": "XIQepd2JvPmH"
   },
   "source": [
    "# Let's further process independent variables.\n",
    "\n"
   ]
  },
  {
   "cell_type": "code",
   "execution_count": 14,
   "metadata": {
    "id": "KuLd1d0ukA_E"
   },
   "outputs": [],
   "source": [
    "X = np.asarray(dataset.values.tolist())"
   ]
  },
  {
   "cell_type": "markdown",
   "metadata": {
    "id": "9jbjZBzrwPWM"
   },
   "source": [
    "# Print the shapes of the aray"
   ]
  },
  {
   "cell_type": "code",
   "execution_count": 15,
   "metadata": {
    "id": "NWMcIEalkHJp"
   },
   "outputs": [
    {
     "name": "stdout",
     "output_type": "stream",
     "text": [
      "The shape of the independent fatures are  (50, 5)\n",
      "The shape of the dependent fatures are  (50,)\n"
     ]
    }
   ],
   "source": [
    "# Your code to print the shape of X\n",
    "print(\"The shape of the independent fatures are \",X.shape)\n",
    "\n",
    "# Your code to print the shape of y\n",
    "print(\"The shape of the dependent fatures are \",y.shape)\n"
   ]
  },
  {
   "cell_type": "code",
   "execution_count": null,
   "metadata": {},
   "outputs": [],
   "source": []
  },
  {
   "cell_type": "markdown",
   "metadata": {
    "id": "1mkuT1JvwXQS"
   },
   "source": [
    "# Change the shape of the dependent variable to (len(y), 1)"
   ]
  },
  {
   "cell_type": "code",
   "execution_count": 16,
   "metadata": {
    "id": "kkOIedKLkJsS"
   },
   "outputs": [],
   "source": [
    "y= y.reshape(len(y), 1)\n",
    "# Your code to change the shape of the y to (len(y), 1)"
   ]
  },
  {
   "cell_type": "code",
   "execution_count": 17,
   "metadata": {},
   "outputs": [
    {
     "name": "stdout",
     "output_type": "stream",
     "text": [
      "(50, 1)\n"
     ]
    }
   ],
   "source": [
    "print(y.shape)"
   ]
  },
  {
   "cell_type": "markdown",
   "metadata": {
    "id": "086Arswgwifr"
   },
   "source": [
    "# Perform feature scaling\n",
    "## We will study this in detail in class.\n",
    "## For now, guess what following code is doing"
   ]
  },
  {
   "cell_type": "code",
   "execution_count": 18,
   "metadata": {
    "id": "3xY_jX90kqWe"
   },
   "outputs": [],
   "source": [
    "\n",
    "for i in range(X.shape[1]-2):\n",
    "    X[:,i] = (X[:,i] - int(np.mean(X[:,i])))/np.std(X[:,i])"
   ]
  },
  {
   "cell_type": "code",
   "execution_count": 19,
   "metadata": {
    "id": "d5X_d-T-k2_f"
   },
   "outputs": [],
   "source": [
    "y = (y - int(np.mean(y)))/np.std(y)"
   ]
  },
  {
   "cell_type": "markdown",
   "metadata": {
    "id": "EDibPJ8Xw6qJ"
   },
   "source": [
    "### Adding the feature X0 = 1, so we have the equation: y =  theta[0] * X0 + theta[1] * X1\n"
   ]
  },
  {
   "cell_type": "code",
   "execution_count": 20,
   "metadata": {
    "id": "6IJwREnmk53K"
   },
   "outputs": [],
   "source": [
    "X = np.concatenate((X,np.ones((50,1))), axis = 1)"
   ]
  },
  {
   "cell_type": "code",
   "execution_count": null,
   "metadata": {},
   "outputs": [],
   "source": [
    "X"
   ]
  },
  {
   "cell_type": "code",
   "execution_count": null,
   "metadata": {},
   "outputs": [],
   "source": [
    "y"
   ]
  },
  {
   "cell_type": "markdown",
   "metadata": {
    "id": "0xeqVGkmxNqW"
   },
   "source": [
    "# Let's see X, y and their shapes"
   ]
  },
  {
   "cell_type": "code",
   "execution_count": 21,
   "metadata": {
    "id": "F72giE7Zk8Xc"
   },
   "outputs": [
    {
     "name": "stdout",
     "output_type": "stream",
     "text": [
      "[[ 2.01642504e+00  5.60775975e-01  2.15394390e+00  0.00000000e+00\n",
      "   1.00000000e+00  1.00000000e+00]\n",
      " [ 1.95587388e+00  1.08282964e+00  1.92360120e+00  1.00000000e+00\n",
      "   0.00000000e+00  1.00000000e+00]\n",
      " [ 1.75437728e+00 -7.28233968e-01  1.62652848e+00  0.00000000e+00\n",
      "   0.00000000e+00  1.00000000e+00]\n",
      " [ 1.55479724e+00 -9.63415706e-02  1.42221104e+00  0.00000000e+00\n",
      "   1.00000000e+00  1.00000000e+00]\n",
      " [ 1.50495075e+00 -1.07989629e+00  1.28152852e+00  0.00000000e+00\n",
      "   0.00000000e+00  1.00000000e+00]\n",
      " [ 1.27981356e+00 -7.76216010e-01  1.25421127e+00  0.00000000e+00\n",
      "   1.00000000e+00  1.00000000e+00]\n",
      " [ 1.34007995e+00  9.32170269e-01 -6.88149122e-01  1.00000000e+00\n",
      "   0.00000000e+00  1.00000000e+00]\n",
      " [ 1.24507020e+00  8.72003071e-01  9.32186786e-01  0.00000000e+00\n",
      "   0.00000000e+00  1.00000000e+00]\n",
      " [ 1.03038241e+00  9.86975162e-01  8.30887717e-01  0.00000000e+00\n",
      "   1.00000000e+00  1.00000000e+00]\n",
      " [ 1.09183275e+00 -4.56617186e-01  7.76108248e-01  1.00000000e+00\n",
      "   0.00000000e+00  1.00000000e+00]\n",
      " [ 6.20411795e-01 -3.87576029e-01  1.49808075e-01  0.00000000e+00\n",
      "   0.00000000e+00  1.00000000e+00]\n",
      " [ 5.93098965e-01 -1.06551653e+00  3.19834431e-01  1.00000000e+00\n",
      "   0.00000000e+00  1.00000000e+00]\n",
      " [ 4.43273419e-01  2.15472124e-01  3.20618249e-01  0.00000000e+00\n",
      "   0.00000000e+00  1.00000000e+00]\n",
      " [ 4.02091150e-01  5.10202013e-01  3.43957596e-01  1.00000000e+00\n",
      "   0.00000000e+00  1.00000000e+00]\n",
      " [ 1.01719429e+00  1.26922245e+00  3.75743081e-01  0.00000000e+00\n",
      "   0.00000000e+00  1.00000000e+00]\n",
      " [ 8.97926670e-01  4.58909136e-02  4.19219510e-01  0.00000000e+00\n",
      "   1.00000000e+00  1.00000000e+00]\n",
      " [ 9.44547430e-02  9.14147979e-03  4.40447032e-01  1.00000000e+00\n",
      "   0.00000000e+00  1.00000000e+00]\n",
      " [ 4.60733675e-01  8.55689379e-01  5.91017531e-01  0.00000000e+00\n",
      "   1.00000000e+00  1.00000000e+00]\n",
      " [ 3.96738485e-01 -2.58442307e-01  6.92992870e-01  0.00000000e+00\n",
      "   0.00000000e+00  1.00000000e+00]\n",
      " [ 2.79455197e-01  1.15985963e+00 -1.74312617e+00  0.00000000e+00\n",
      "   1.00000000e+00  1.00000000e+00]\n",
      " [ 5.57396340e-02 -2.69564591e-01  7.23926803e-01  1.00000000e+00\n",
      "   0.00000000e+00  1.00000000e+00]\n",
      " [ 1.02737147e-01  1.16920915e+00  7.32788599e-01  0.00000000e+00\n",
      "   1.00000000e+00  1.00000000e+00]\n",
      " [ 6.02012518e-03  5.18726249e-02  7.62376684e-01  0.00000000e+00\n",
      "   0.00000000e+00  1.00000000e+00]\n",
      " [-1.36187177e-01 -5.62188208e-01  7.74349716e-01  0.00000000e+00\n",
      "   0.00000000e+00  1.00000000e+00]\n",
      " [ 7.31281480e-02 -7.95446107e-01 -5.81938489e-01  0.00000000e+00\n",
      "   1.00000000e+00  1.00000000e+00]\n",
      " [-1.99298141e-01  6.56512199e-01 -6.03515917e-01  1.00000000e+00\n",
      "   0.00000000e+00  1.00000000e+00]\n",
      " [ 3.53837501e-02  8.21740976e-01 -6.35834687e-01  0.00000000e+00\n",
      "   0.00000000e+00  1.00000000e+00]\n",
      " [-3.55054466e-02  2.35091603e-01  1.17427197e+00  0.00000000e+00\n",
      "   1.00000000e+00  1.00000000e+00]\n",
      " [-1.68779170e-01  2.21016356e+00 -7.67188629e-01  0.00000000e+00\n",
      "   0.00000000e+00  1.00000000e+00]\n",
      " [-1.78594993e-01  1.14247983e+00 -8.58132855e-01  0.00000000e+00\n",
      "   1.00000000e+00  1.00000000e+00]\n",
      " [-2.58060822e-01 -2.05605599e-01 -9.90356358e-01  0.00000000e+00\n",
      "   0.00000000e+00  1.00000000e+00]\n",
      " [-2.76944684e-01  1.13057697e+00 -1.01441864e+00  0.00000000e+00\n",
      "   1.00000000e+00  1.00000000e+00]\n",
      " [-2.26935128e-01  2.83946873e-01 -1.36244897e+00  1.00000000e+00\n",
      "   0.00000000e+00  1.00000000e+00]\n",
      " [-4.01115378e-01 -6.59300973e-01  2.98180513e-02  0.00000000e+00\n",
      "   0.00000000e+00  1.00000000e+00]\n",
      " [-6.00668575e-01  1.31055831e+00 -1.87781008e-03  1.00000000e+00\n",
      "   0.00000000e+00  1.00000000e+00]\n",
      " [-6.09736394e-01 -1.30863447e+00 -4.54923508e-02  0.00000000e+00\n",
      "   1.00000000e+00  1.00000000e+00]\n",
      " [-9.91556606e-01  2.05947751e-01 -8.17617655e-02  0.00000000e+00\n",
      "   0.00000000e+00  1.00000000e+00]\n",
      " [-6.52518763e-01 -2.52597096e+00 -1.15607448e-01  1.00000000e+00\n",
      "   0.00000000e+00  1.00000000e+00]\n",
      " [-1.17716400e+00 -1.99724731e+00 -2.12784058e-01  0.00000000e+00\n",
      "   1.00000000e+00  1.00000000e+00]\n",
      " [-7.73806812e-01 -1.38309850e+00 -2.97582468e-01  1.00000000e+00\n",
      "   0.00000000e+00  1.00000000e+00]\n",
      " [-9.89563468e-01 -1.00877158e-01 -3.15785075e-01  1.00000000e+00\n",
      "   0.00000000e+00  1.00000000e+00]\n",
      " [-1.00852017e+00 -1.32077275e+00 -3.84551599e-01  0.00000000e+00\n",
      "   0.00000000e+00  1.00000000e+00]\n",
      " [-1.10209201e+00 -9.06914474e-01 -5.20595152e-01  1.00000000e+00\n",
      "   0.00000000e+00  1.00000000e+00]\n",
      " [-1.28112009e+00  2.17704585e-01 -1.44960388e+00  0.00000000e+00\n",
      "   1.00000000e+00  1.00000000e+00]\n",
      " [-1.13429185e+00  1.20644242e+00 -1.50907337e+00  1.00000000e+00\n",
      "   0.00000000e+00  1.00000000e+00]\n",
      " [-1.60033681e+00  1.01276996e-01 -1.72739917e+00  0.00000000e+00\n",
      "   1.00000000e+00  1.00000000e+00]\n",
      " [-1.59339967e+00 -1.99298681e-01  7.11123282e-01  0.00000000e+00\n",
      "   0.00000000e+00  1.00000000e+00]\n",
      " [-1.62234847e+00  5.07744936e-01 -1.74312617e+00  1.00000000e+00\n",
      "   0.00000000e+00  1.00000000e+00]\n",
      " [-1.61041980e+00 -2.50938578e+00 -1.74312617e+00  0.00000000e+00\n",
      "   1.00000000e+00  1.00000000e+00]\n",
      " [-1.62234847e+00 -1.57202446e-01 -1.36998392e+00  1.00000000e+00\n",
      "   0.00000000e+00  1.00000000e+00]]\n"
     ]
    }
   ],
   "source": [
    "# Your code to print sample values in X\n",
    "print(X)"
   ]
  },
  {
   "cell_type": "code",
   "execution_count": 22,
   "metadata": {
    "id": "wiCADV4Xk-40"
   },
   "outputs": [
    {
     "name": "stdout",
     "output_type": "stream",
     "text": [
      "[[ 2.01121935]\n",
      " [ 1.99944599]\n",
      " [ 1.98085827]\n",
      " [ 1.77664326]\n",
      " [ 1.35775614]\n",
      " [ 1.12726565]\n",
      " [ 1.10549657]\n",
      " [ 1.09622589]\n",
      " [ 1.00748569]\n",
      " [ 0.94603849]\n",
      " [ 0.85486277]\n",
      " [ 0.80818358]\n",
      " [ 0.74117086]\n",
      " [ 0.55876554]\n",
      " [ 0.51604239]\n",
      " [ 0.44873569]\n",
      " [ 0.37545172]\n",
      " [ 0.33478716]\n",
      " [ 0.30713202]\n",
      " [ 0.26978867]\n",
      " [ 0.16195124]\n",
      " [-0.01751782]\n",
      " [-0.04159662]\n",
      " [-0.08215341]\n",
      " [-0.08671344]\n",
      " [-0.11547707]\n",
      " [-0.15735062]\n",
      " [-0.17552631]\n",
      " [-0.21878153]\n",
      " [-0.2758662 ]\n",
      " [-0.30260858]\n",
      " [-0.36411142]\n",
      " [-0.36550788]\n",
      " [-0.38177109]\n",
      " [-0.38342819]\n",
      " [-0.3892749 ]\n",
      " [-0.53391559]\n",
      " [-0.55293888]\n",
      " [-0.77148132]\n",
      " [-0.77707766]\n",
      " [-0.84639533]\n",
      " [-0.85744966]\n",
      " [-1.01534864]\n",
      " [-1.05894419]\n",
      " [-1.17319297]\n",
      " [-1.18006622]\n",
      " [-1.5669061 ]\n",
      " [-1.74061116]\n",
      " [-1.91319595]\n",
      " [-2.43929721]]\n"
     ]
    }
   ],
   "source": [
    "# Your code to print the sample values in y\n",
    "print(y)"
   ]
  },
  {
   "cell_type": "markdown",
   "metadata": {
    "id": "tTjU0Q-cxser"
   },
   "source": [
    "# Let's assign the X to a variable Independedent variable."
   ]
  },
  {
   "cell_type": "code",
   "execution_count": 23,
   "metadata": {
    "id": "YdWZQ-b5lDJa"
   },
   "outputs": [],
   "source": [
    "Indpendent_Variables = pd.DataFrame(X)\n"
   ]
  },
  {
   "cell_type": "markdown",
   "metadata": {
    "id": "6gMeaKTBx4-d"
   },
   "source": [
    "# Print Independent variable."
   ]
  },
  {
   "cell_type": "code",
   "execution_count": 24,
   "metadata": {
    "id": "g4ZT1IjrlNHC"
   },
   "outputs": [
    {
     "name": "stdout",
     "output_type": "stream",
     "text": [
      "           0         1         2    3    4    5\n",
      "0   2.016425  0.560776  2.153944  0.0  1.0  1.0\n",
      "1   1.955874  1.082830  1.923601  1.0  0.0  1.0\n",
      "2   1.754377 -0.728234  1.626528  0.0  0.0  1.0\n",
      "3   1.554797 -0.096342  1.422211  0.0  1.0  1.0\n",
      "4   1.504951 -1.079896  1.281529  0.0  0.0  1.0\n",
      "5   1.279814 -0.776216  1.254211  0.0  1.0  1.0\n",
      "6   1.340080  0.932170 -0.688149  1.0  0.0  1.0\n",
      "7   1.245070  0.872003  0.932187  0.0  0.0  1.0\n",
      "8   1.030382  0.986975  0.830888  0.0  1.0  1.0\n",
      "9   1.091833 -0.456617  0.776108  1.0  0.0  1.0\n",
      "10  0.620412 -0.387576  0.149808  0.0  0.0  1.0\n",
      "11  0.593099 -1.065517  0.319834  1.0  0.0  1.0\n",
      "12  0.443273  0.215472  0.320618  0.0  0.0  1.0\n",
      "13  0.402091  0.510202  0.343958  1.0  0.0  1.0\n",
      "14  1.017194  1.269222  0.375743  0.0  0.0  1.0\n",
      "15  0.897927  0.045891  0.419220  0.0  1.0  1.0\n",
      "16  0.094455  0.009141  0.440447  1.0  0.0  1.0\n",
      "17  0.460734  0.855689  0.591018  0.0  1.0  1.0\n",
      "18  0.396738 -0.258442  0.692993  0.0  0.0  1.0\n",
      "19  0.279455  1.159860 -1.743126  0.0  1.0  1.0\n",
      "20  0.055740 -0.269565  0.723927  1.0  0.0  1.0\n",
      "21  0.102737  1.169209  0.732789  0.0  1.0  1.0\n",
      "22  0.006020  0.051873  0.762377  0.0  0.0  1.0\n",
      "23 -0.136187 -0.562188  0.774350  0.0  0.0  1.0\n",
      "24  0.073128 -0.795446 -0.581938  0.0  1.0  1.0\n",
      "25 -0.199298  0.656512 -0.603516  1.0  0.0  1.0\n",
      "26  0.035384  0.821741 -0.635835  0.0  0.0  1.0\n",
      "27 -0.035505  0.235092  1.174272  0.0  1.0  1.0\n",
      "28 -0.168779  2.210164 -0.767189  0.0  0.0  1.0\n",
      "29 -0.178595  1.142480 -0.858133  0.0  1.0  1.0\n",
      "30 -0.258061 -0.205606 -0.990356  0.0  0.0  1.0\n",
      "31 -0.276945  1.130577 -1.014419  0.0  1.0  1.0\n",
      "32 -0.226935  0.283947 -1.362449  1.0  0.0  1.0\n",
      "33 -0.401115 -0.659301  0.029818  0.0  0.0  1.0\n",
      "34 -0.600669  1.310558 -0.001878  1.0  0.0  1.0\n",
      "35 -0.609736 -1.308634 -0.045492  0.0  1.0  1.0\n",
      "36 -0.991557  0.205948 -0.081762  0.0  0.0  1.0\n",
      "37 -0.652519 -2.525971 -0.115607  1.0  0.0  1.0\n",
      "38 -1.177164 -1.997247 -0.212784  0.0  1.0  1.0\n",
      "39 -0.773807 -1.383099 -0.297582  1.0  0.0  1.0\n",
      "40 -0.989563 -0.100877 -0.315785  1.0  0.0  1.0\n",
      "41 -1.008520 -1.320773 -0.384552  0.0  0.0  1.0\n",
      "42 -1.102092 -0.906914 -0.520595  1.0  0.0  1.0\n",
      "43 -1.281120  0.217705 -1.449604  0.0  1.0  1.0\n",
      "44 -1.134292  1.206442 -1.509073  1.0  0.0  1.0\n",
      "45 -1.600337  0.101277 -1.727399  0.0  1.0  1.0\n",
      "46 -1.593400 -0.199299  0.711123  0.0  0.0  1.0\n",
      "47 -1.622348  0.507745 -1.743126  1.0  0.0  1.0\n",
      "48 -1.610420 -2.509386 -1.743126  0.0  1.0  1.0\n",
      "49 -1.622348 -0.157202 -1.369984  1.0  0.0  1.0\n"
     ]
    }
   ],
   "source": [
    "# Your code to print independent variable.\n",
    "print(Indpendent_Variables)"
   ]
  },
  {
   "cell_type": "markdown",
   "metadata": {
    "id": "6id_qS-wx_PY"
   },
   "source": [
    "# Following function splits the data into two sets - trainset and testset.\n",
    "# We can also do the same operation using  train_test_split method available in sklearn.model_selection.\n",
    "# But, let's create our own method to split data.\n",
    "\n",
    "# In the following code, set radom_state as your SID.\n",
    "\n",
    "## Comment each line of the code about what its doing."
   ]
  },
  {
   "cell_type": "code",
   "execution_count": 25,
   "metadata": {
    "id": "JyUnKqYklPXO"
   },
   "outputs": [],
   "source": [
    "def split_data(X, y, test_size = 0.2, random_state = 2297226):  # Set variable random_state as your SID\n",
    "\n",
    "    np.random.seed(random_state)\n",
    "    indices = np.random.permutation(len(X))\n",
    "    data_test_size = int(X.shape[0] * test_size)\n",
    "\n",
    "    train_indices = indices[data_test_size:]\n",
    "    test_indices = indices[:data_test_size]\n",
    "    X_train = X[train_indices]\n",
    "    y_train = y[train_indices]\n",
    "    X_test = X[test_indices]\n",
    "    y_test = y[test_indices]\n",
    "    \n",
    "    return X_train, y_train, X_test, y_test\n",
    "\n",
    "    # Your code to return X_train, y_train, X_test, y_test"
   ]
  },
  {
   "cell_type": "markdown",
   "metadata": {
    "id": "-SZXGbPozKhg"
   },
   "source": [
    "#Comment each line of the following code about what its doing."
   ]
  },
  {
   "cell_type": "code",
   "execution_count": 26,
   "metadata": {
    "id": "vIoOKmLMz7SG"
   },
   "outputs": [],
   "source": [
    "def forward(X, y, theta):\n",
    "\n",
    "    y_pred = np.sum(theta * X)\n",
    "    loss = ((y_pred-y)**2)/2    #This is also the cost function\n",
    "    \n",
    "    return loss, y_pred\n",
    "\n",
    "    # Your code to return lost and predicted values.\n"
   ]
  },
  {
   "cell_type": "markdown",
   "metadata": {
    "id": "eJ2et9uJ3o4i"
   },
   "source": [
    "# Comment each line of the code about what its doing."
   ]
  },
  {
   "cell_type": "code",
   "execution_count": 27,
   "metadata": {
    "id": "hOrAJ454z8qk"
   },
   "outputs": [],
   "source": [
    "def updateTheta(X, y_pred, y_true, theta, alpha, index):\n",
    "\n",
    "    theta -= alpha *X[index]*(y_pred-y_true[index])\n",
    "    \n",
    "    return theta\n",
    "    \n",
    "    # Your code to return theta"
   ]
  },
  {
   "cell_type": "markdown",
   "metadata": {
    "id": "446lDTRr3vA8"
   },
   "source": [
    "## Comment each line of the code about what its doing."
   ]
  },
  {
   "cell_type": "code",
   "execution_count": 28,
   "metadata": {
    "id": "gGC0RCK00TPF"
   },
   "outputs": [],
   "source": [
    "def gradient_descent(X, y, epochs = 10, alpha = 0.001, random_state=0):\n",
    "\n",
    "    num_rows = X.shape[0]\n",
    "    num_cols = X.shape[1]\n",
    "\n",
    "    theta = np.random.randn(1,num_cols) / np.sqrt(num_rows)\n",
    "    train_loss = []\n",
    "    num_epochs = []\n",
    "    train_indices = [i for i in range(X.shape[0])]\n",
    "\n",
    "    for j in range(epochs):\n",
    "        cost=0\n",
    "        np.random.seed(random_state)\n",
    "        np.random.shuffle(train_indices)\n",
    "\n",
    "        for i in train_indices:\n",
    "            loss, y_pred = forward(X[i],y[i],theta)\n",
    "            cost+=loss\n",
    "            theta = updateTheta(X,y_pred,y,theta,alpha,i)\n",
    "\n",
    "        train_loss.append(cost)\n",
    "        num_epochs.append(j)\n",
    "\n",
    "    return theta, train_loss, num_epochs"
   ]
  },
  {
   "cell_type": "markdown",
   "metadata": {
    "id": "igWtd1Lo3-ep"
   },
   "source": [
    "## Comment each line of the code about what its doing."
   ]
  },
  {
   "cell_type": "code",
   "execution_count": 29,
   "metadata": {
    "id": "DrEpGXdN0Y2q"
   },
   "outputs": [],
   "source": [
    "def test(X_test, y_test, theta_updated):\n",
    "\n",
    "    test_pred = []\n",
    "    test_loss = []\n",
    "\n",
    "    test_indices = [i for i in range(X_test.shape[0])]\n",
    "\n",
    "    for i in test_indices:\n",
    "        loss, y_test_pred = forward(X_test[i],  y_test[i], theta_updated)\n",
    "        test_pred.append(y_test_pred)\n",
    "        test_loss.append(loss)\n",
    "\n",
    "    return test_pred, test_loss\n",
    "\n",
    "    # Your code to return predictions and loss"
   ]
  },
  {
   "cell_type": "markdown",
   "metadata": {
    "id": "od4-qZRv4AAf"
   },
   "source": [
    "## Comment each line of the code about what its doing."
   ]
  },
  {
   "cell_type": "code",
   "execution_count": 30,
   "metadata": {
    "id": "ORSib6yN0dp5"
   },
   "outputs": [],
   "source": [
    "def predict(theta_updated, X_sample):\n",
    "\n",
    "    prediction = np.sum(theta_updated * X_sample)\n",
    "\n",
    "    return prediction"
   ]
  },
  {
   "cell_type": "code",
   "execution_count": 31,
   "metadata": {},
   "outputs": [],
   "source": [
    "class multipleLinearRegression():\n",
    "\n",
    "  def __init__(self):\n",
    "    #No instance Variables required\n",
    "    pass\n",
    "\n",
    "  def forward(self,X,y,W):\n",
    "    \"\"\"\n",
    "    Parameters:\n",
    "    X (array) : Independent Features\n",
    "    y (array) : Dependent Features/ Target Variable\n",
    "    W (array) : Weights \n",
    "\n",
    "    Returns:\n",
    "    loss (float) : Calculated Sqaured Error Loss for y and y_pred\n",
    "    y_pred (array) : Predicted Target Variable\n",
    "    \"\"\"\n",
    "    y_pred = sum(W * X)\n",
    "    loss = ((y_pred-y)**2)/2    #Loss = Squared Error, we introduce 1/2 for ease in the calculation\n",
    "    return loss, y_pred\n",
    "\n",
    "  def updateWeights(self,X,y_pred,y_true,W,alpha,index):\n",
    "    \"\"\"\n",
    "    Parameters:\n",
    "    X (array) : Independent Features\n",
    "    y_pred (array) : Predicted Target Variable\n",
    "    y_true (array) : Dependent Features/ Target Variable\n",
    "    W (array) : Weights\n",
    "    alpha (float) : learning rate\n",
    "    index (int) : Index to fetch the corresponding values of W, X and y \n",
    "\n",
    "    Returns:\n",
    "    W (array) : Update Values of Weight\n",
    "    \"\"\"\n",
    "    for i in range(X.shape[1]):\n",
    "      #alpha = learning rate, rest of the RHS is derivative of loss function\n",
    "      W[i] -= (alpha * (y_pred-y_true[index])*X[index][i]) \n",
    "    return W\n",
    "\n",
    "  def train(self, X, y, epochs=10, alpha=0.001, random_state=0):\n",
    "    \"\"\"\n",
    "    Parameters:\n",
    "    X (array) : Independent Feature\n",
    "    y (array) : Dependent Features/ Target Variable\n",
    "    epochs (int) : Number of epochs for training, default value is 10\n",
    "    alpha (float) : learning rate, default value is 0.001\n",
    "\n",
    "    Returns:\n",
    "    y_pred (array) : Predicted Target Variable\n",
    "    loss (float) : Calculated Sqaured Error Loss for y and y_pred\n",
    "    \"\"\"\n",
    "\n",
    "    num_rows = X.shape[0] #Number of Rows\n",
    "    num_cols = X.shape[1] #Number of Columns \n",
    "    W = np.random.randn(1,num_cols) / np.sqrt(num_rows) #Weight Initialization\n",
    "\n",
    "    #Calculating Loss and Updating Weights\n",
    "    train_loss = []\n",
    "    num_epochs = []\n",
    "    train_indices = [i for i in range(X.shape[0])]\n",
    "    for j in range(epochs):\n",
    "      cost=0\n",
    "      np.random.seed(random_state)\n",
    "      np.random.shuffle(train_indices)\n",
    "      for i in train_indices:\n",
    "        loss, y_pred = self.forward(X[i],y[i],W[0])\n",
    "        cost+=loss\n",
    "        W[0] = self.updateWeights(X,y_pred,y,W[0],alpha,i)\n",
    "      train_loss.append(cost)\n",
    "      num_epochs.append(j)\n",
    "    return W[0], train_loss, num_epochs\n",
    "\n",
    "  def test(self, X_test, y_test, W_trained):\n",
    "    \"\"\"\n",
    "    Parameters:\n",
    "    X_test (array) : Independent Features from the Test Set\n",
    "    y_test (array) : Dependent Features/ Target Variable from the Test Set\n",
    "    W_trained (array) : Trained Weights\n",
    "    test_indices (list) : Index to fetch the corresponding values of W_trained,\n",
    "                          X_test and y_test \n",
    "\n",
    "    Returns:\n",
    "    test_pred (list) : Predicted Target Variable\n",
    "    test_loss (list) : Calculated Sqaured Error Loss for y and y_pred\n",
    "    \"\"\"\n",
    "    test_pred = []\n",
    "    test_loss = []\n",
    "    test_indices = [i for i in range(X_test.shape[0])]\n",
    "    for i in test_indices:\n",
    "        loss, y_test_pred = self.forward(X_test[i], W_trained, y_test[i])\n",
    "        test_pred.append(y_test_pred)\n",
    "        test_loss.append(loss)\n",
    "    return test_pred, test_loss\n",
    "    \n",
    "\n",
    "  def predict(self, W_trained, X_sample):\n",
    "    prediction = sum(W_trained * X_sample)\n",
    "    return prediction\n",
    "\n",
    "  def plotLoss(self, loss, epochs):\n",
    "    \"\"\"\n",
    "    Parameters:\n",
    "    loss (list) : Calculated Sqaured Error Loss for y and y_pred\n",
    "    epochs (list): Number of Epochs\n",
    "\n",
    "    Returns: None\n",
    "    Plots a graph of Loss vs Epochs\n",
    "    \"\"\"\n",
    "    plt.plot(epochs, loss)\n",
    "    plt.xlabel('Number of Epochs')\n",
    "    plt.ylabel('Loss')\n",
    "    plt.title('Plot Loss')\n",
    "    plt.show()"
   ]
  },
  {
   "cell_type": "markdown",
   "metadata": {
    "id": "hrL_oqSeIYO0"
   },
   "source": [
    "# Create a good plot Epochs vs loss."
   ]
  },
  {
   "cell_type": "code",
   "execution_count": 32,
   "metadata": {
    "id": "XiryfU2C184a"
   },
   "outputs": [],
   "source": [
    "def plotLoss(loss, epochs):\n",
    "    plt.plot(loss, epochs)\n",
    "    plt.xlabel(\"Loss\")\n",
    "    plt.ylabel(\"Epochs\")\n",
    "    plt.title(\"Vijay\")\n",
    "    print(plotloss)\n",
    "\n",
    "    # Your code to plot epochs vs loss\n",
    "    # Your code to print x label in the graph\n",
    "    # Your code to print y label in the graph\n",
    "    # Your code to provide title to the plot.\n",
    "    # Your code to show the plot."
   ]
  },
  {
   "cell_type": "markdown",
   "metadata": {
    "id": "D-MpfkCR4IAb"
   },
   "source": [
    "# Calling the method  split_data to get train and test set.\n",
    "\n"
   ]
  },
  {
   "cell_type": "code",
   "execution_count": 33,
   "metadata": {
    "id": "EpxMECnipNSd"
   },
   "outputs": [],
   "source": [
    "X_train, y_train, X_test, y_test = split_data(X, y)"
   ]
  },
  {
   "cell_type": "code",
   "execution_count": 34,
   "metadata": {},
   "outputs": [],
   "source": [
    "regressor = multipleLinearRegression()"
   ]
  },
  {
   "cell_type": "code",
   "execution_count": 35,
   "metadata": {},
   "outputs": [],
   "source": [
    "W_trained, train_loss, num_epochs = regressor.train(X_train, y_train, epochs=200, alpha=0.0001)"
   ]
  },
  {
   "cell_type": "code",
   "execution_count": 36,
   "metadata": {},
   "outputs": [],
   "source": [
    "test_pred, test_loss = regressor.test(X_test, y_test, W_trained)"
   ]
  },
  {
   "cell_type": "code",
   "execution_count": 37,
   "metadata": {},
   "outputs": [
    {
     "data": {
      "image/png": "[encoded data removed]",
      "text/plain": [
       "<Figure size 640x480 with 1 Axes>"
      ]
     },
     "metadata": {},
     "output_type": "display_data"
    }
   ],
   "source": [
    "regressor.plotLoss(train_loss, num_epochs)"
   ]
  },
  {
   "cell_type": "markdown",
   "metadata": {
    "id": "mD-K1DXW4yjP"
   },
   "source": [
    "# Call the gradient descent function with the number of epochs and learning rate of your choice. Keep number of epochs greater that 200 and learning rate less than 0.05."
   ]
  },
  {
   "cell_type": "code",
   "execution_count": 38,
   "metadata": {
    "id": "L6_XGsxmqKEs"
   },
   "outputs": [],
   "source": [
    "theta_updated, train_loss, num_epochs = gradient_descent(X_train, y_train, epochs=700, alpha=0.05)\n",
    "# Your code to call gradient descent for training data; you need to set epoch (greater than 200) and learning rate (less than 0.05)."
   ]
  },
  {
   "cell_type": "code",
   "execution_count": 39,
   "metadata": {},
   "outputs": [
    {
     "data": {
      "text/plain": [
       "array([[ 0.89735317, -0.04036332,  0.04755026, -0.00335968, -0.06072959,\n",
       "         0.03957266]])"
      ]
     },
     "execution_count": 39,
     "metadata": {},
     "output_type": "execute_result"
    }
   ],
   "source": [
    "theta_updated"
   ]
  },
  {
   "cell_type": "markdown",
   "metadata": {
    "id": "bLEaYqXx5PEx"
   },
   "source": [
    "# Test your regression model using test data."
   ]
  },
  {
   "cell_type": "code",
   "execution_count": 40,
   "metadata": {
    "id": "WTg11ggFqM6A"
   },
   "outputs": [],
   "source": [
    "# Your code to test the model on test data and updated theta values.\n",
    "test_pred, test_loss = test(X_test, y_test, theta_updated)"
   ]
  },
  {
   "cell_type": "code",
   "execution_count": 41,
   "metadata": {},
   "outputs": [
    {
     "name": "stdout",
     "output_type": "stream",
     "text": [
      "[[ 0.89735317 -0.04036332  0.04755026 -0.00335968 -0.06072959  0.03957266]]\n"
     ]
    }
   ],
   "source": [
    "print(theta_updated)"
   ]
  },
  {
   "cell_type": "markdown",
   "metadata": {
    "id": "yYpIBWt05ZdV"
   },
   "source": [
    "# Plot the loss function."
   ]
  },
  {
   "cell_type": "code",
   "execution_count": 42,
   "metadata": {
    "id": "Lq4Ld1cTqQCX"
   },
   "outputs": [
    {
     "data": {
      "image/png": "[encoded data removed]",
      "text/plain": [
       "<Figure size 640x480 with 1 Axes>"
      ]
     },
     "metadata": {},
     "output_type": "display_data"
    }
   ],
   "source": [
    "# Your code to plot epochs vs loss. Call the m\n",
    "regressor.plotLoss(train_loss, num_epochs)"
   ]
  },
  {
   "cell_type": "markdown",
   "metadata": {
    "id": "9eA7JcJ05i3t"
   },
   "source": [
    "Perform the predictions on X_tset. Call predict method."
   ]
  },
  {
   "cell_type": "code",
   "execution_count": null,
   "metadata": {
    "id": "bwMj-gm05jqK"
   },
   "outputs": [],
   "source": [
    "# Your code to predict the profit i.e. y values"
   ]
  },
  {
   "cell_type": "markdown",
   "metadata": {
    "id": "8QX9qvbBJ5xI"
   },
   "source": [
    "# **Imortant - Lab Logbook requirement:**\n",
    "\n",
    "# Please document the following in your lab logbook:\n",
    "\n",
    "# 1. Plot the loss function.\n",
    "# 2. Record the output of all the predictions on the test data; i.e., all the predicted y values."
   ]
  },
  {
   "cell_type": "markdown",
   "metadata": {
    "id": "xFVI2Qkt6tJ4"
   },
   "source": [
    "# **Optional Part:**\n",
    "# The rest of this notebook is Optional. It is recommended for you to complete it. However, if you have not marks would not be deducted.\n",
    "\n",
    "# Fitting the model using sklearn and comparing with our model.\n",
    "\n",
    "# Following piece of code is uncommented. Please comment it."
   ]
  },
  {
   "cell_type": "code",
   "execution_count": 43,
   "metadata": {
    "id": "FhXzFwONqUCV"
   },
   "outputs": [],
   "source": [
    "# Your code to import train_test_split from sklearn.model_selection\n",
    "# Your code to import LinearRegression from sklearn.linear_model\n",
    "import pandas\n",
    "import matplotlib.pyplot as plt \n",
    "from sklearn.model_selection import train_test_split\n",
    "from sklearn.linear_model import LinearRegression\n",
    "from sklearn.preprocessing import LabelEncoder, OneHotEncoder\n"
   ]
  },
  {
   "cell_type": "code",
   "execution_count": 44,
   "metadata": {
    "id": "S4JcuB2Lqby_"
   },
   "outputs": [],
   "source": [
    "dataset_sk = pd.read_csv('50_Startups.csv')\n",
    "X_sk = dataset_sk.iloc[:, :-1].values\n",
    "y_sk = dataset_sk.iloc[:, 4].values"
   ]
  },
  {
   "cell_type": "code",
   "execution_count": 45,
   "metadata": {
    "id": "y3npV2v0qgKD"
   },
   "outputs": [],
   "source": [
    "labelencoder_X_sk = LabelEncoder()\n",
    "X_sk[:,3] = labelencoder_X_sk.fit_transform(X_sk[:,3])\n",
    "\n",
    "onehotencoder = OneHotEncoder(handle_unknown='ignore')\n",
    "X_sk_categorical = onehotencoder.fit_transform(X_sk[:,3].reshape(-1,1)).toarray()\n",
    "X_sk = np.concatenate((X_sk,X_sk_categorical),axis=1)"
   ]
  },
  {
   "cell_type": "code",
   "execution_count": 46,
   "metadata": {
    "id": "8mwGdW42qn3D"
   },
   "outputs": [],
   "source": [
    "X_sk = X_sk[:, [0,1,2,5,6]]"
   ]
  },
  {
   "cell_type": "code",
   "execution_count": 47,
   "metadata": {
    "id": "T1l5re-Qqp_o"
   },
   "outputs": [
    {
     "data": {
      "text/plain": [
       "(50, 5)"
      ]
     },
     "execution_count": 47,
     "metadata": {},
     "output_type": "execute_result"
    }
   ],
   "source": [
    "X_sk.shape\n"
   ]
  },
  {
   "cell_type": "code",
   "execution_count": 48,
   "metadata": {
    "id": "sx5w-R0lqs2Y"
   },
   "outputs": [],
   "source": [
    "# Your code to perform train test split with 20% data in the test set.\n",
    "# Splitting the dataset into the Training set and Test set\n",
    "X_train_sk, X_test_sk, y_train_sk, y_test_sk = train_test_split(X_sk, y_sk, test_size = 0.2, random_state = 0)"
   ]
  },
  {
   "cell_type": "code",
   "execution_count": 49,
   "metadata": {
    "colab": {
     "base_uri": "https://localhost:8080/"
    },
    "id": "FtPNcs-9qvPo",
    "outputId": "95195c0f-0486-41f7-aa25-39457f73bd70"
   },
   "outputs": [
    {
     "data": {
      "text/html": [
       "<style>#sk-container-id-1 {color: black;}#sk-container-id-1 pre{padding: 0;}#sk-container-id-1 div.sk-toggleable {background-color: white;}#sk-container-id-1 label.sk-toggleable__label {cursor: pointer;display: block;width: 100%;margin-bottom: 0;padding: 0.3em;box-sizing: border-box;text-align: center;}#sk-container-id-1 label.sk-toggleable__label-arrow:before {content: \"▸\";float: left;margin-right: 0.25em;color: #696969;}#sk-container-id-1 label.sk-toggleable__label-arrow:hover:before {color: black;}#sk-container-id-1 div.sk-estimator:hover label.sk-toggleable__label-arrow:before {color: black;}#sk-container-id-1 div.sk-toggleable__content {max-height: 0;max-width: 0;overflow: hidden;text-align: left;background-color: #f0f8ff;}#sk-container-id-1 div.sk-toggleable__content pre {margin: 0.2em;color: black;border-radius: 0.25em;background-color: #f0f8ff;}#sk-container-id-1 input.sk-toggleable__control:checked~div.sk-toggleable__content {max-height: 200px;max-width: 100%;overflow: auto;}#sk-container-id-1 input.sk-toggleable__control:checked~label.sk-toggleable__label-arrow:before {content: \"▾\";}#sk-container-id-1 div.sk-estimator input.sk-toggleable__control:checked~label.sk-toggleable__label {background-color: #d4ebff;}#sk-container-id-1 div.sk-label input.sk-toggleable__control:checked~label.sk-toggleable__label {background-color: #d4ebff;}#sk-container-id-1 input.sk-hidden--visually {border: 0;clip: rect(1px 1px 1px 1px);clip: rect(1px, 1px, 1px, 1px);height: 1px;margin: -1px;overflow: hidden;padding: 0;position: absolute;width: 1px;}#sk-container-id-1 div.sk-estimator {font-family: monospace;background-color: #f0f8ff;border: 1px dotted black;border-radius: 0.25em;box-sizing: border-box;margin-bottom: 0.5em;}#sk-container-id-1 div.sk-estimator:hover {background-color: #d4ebff;}#sk-container-id-1 div.sk-parallel-item::after {content: \"\";width: 100%;border-bottom: 1px solid gray;flex-grow: 1;}#sk-container-id-1 div.sk-label:hover label.sk-toggleable__label {background-color: #d4ebff;}#sk-container-id-1 div.sk-serial::before {content: \"\";position: absolute;border-left: 1px solid gray;box-sizing: border-box;top: 0;bottom: 0;left: 50%;z-index: 0;}#sk-container-id-1 div.sk-serial {display: flex;flex-direction: column;align-items: center;background-color: white;padding-right: 0.2em;padding-left: 0.2em;position: relative;}#sk-container-id-1 div.sk-item {position: relative;z-index: 1;}#sk-container-id-1 div.sk-parallel {display: flex;align-items: stretch;justify-content: center;background-color: white;position: relative;}#sk-container-id-1 div.sk-item::before, #sk-container-id-1 div.sk-parallel-item::before {content: \"\";position: absolute;border-left: 1px solid gray;box-sizing: border-box;top: 0;bottom: 0;left: 50%;z-index: -1;}#sk-container-id-1 div.sk-parallel-item {display: flex;flex-direction: column;z-index: 1;position: relative;background-color: white;}#sk-container-id-1 div.sk-parallel-item:first-child::after {align-self: flex-end;width: 50%;}#sk-container-id-1 div.sk-parallel-item:last-child::after {align-self: flex-start;width: 50%;}#sk-container-id-1 div.sk-parallel-item:only-child::after {width: 0;}#sk-container-id-1 div.sk-dashed-wrapped {border: 1px dashed gray;margin: 0 0.4em 0.5em 0.4em;box-sizing: border-box;padding-bottom: 0.4em;background-color: white;}#sk-container-id-1 div.sk-label label {font-family: monospace;font-weight: bold;display: inline-block;line-height: 1.2em;}#sk-container-id-1 div.sk-label-container {text-align: center;}#sk-container-id-1 div.sk-container {/* jupyter's `normalize.less` sets `[hidden] { display: none; }` but bootstrap.min.css set `[hidden] { display: none !important; }` so we also need the `!important` here to be able to override the default hidden behavior on the sphinx rendered scikit-learn.org. See: https://github.com/scikit-learn/scikit-learn/issues/21755 */display: inline-block !important;position: relative;}#sk-container-id-1 div.sk-text-repr-fallback {display: none;}</style><div id=\"sk-container-id-1\" class=\"sk-top-container\"><div class=\"sk-text-repr-fallback\"><pre>LinearRegression()</pre><b>In a Jupyter environment, please rerun this cell to show the HTML representation or trust the notebook. <br />On GitHub, the HTML representation is unable to render, please try loading this page with nbviewer.org.</b></div><div class=\"sk-container\" hidden><div class=\"sk-item\"><div class=\"sk-estimator sk-toggleable\"><input class=\"sk-toggleable__control sk-hidden--visually\" id=\"sk-estimator-id-1\" type=\"checkbox\" checked><label for=\"sk-estimator-id-1\" class=\"sk-toggleable__label sk-toggleable__label-arrow\">LinearRegression</label><div class=\"sk-toggleable__content\"><pre>LinearRegression()</pre></div></div></div></div></div>"
      ],
      "text/plain": [
       "LinearRegression()"
      ]
     },
     "execution_count": 49,
     "metadata": {},
     "output_type": "execute_result"
    }
   ],
   "source": [
    "regressor_sk = LinearRegression()\n",
    "regressor_sk.fit(X_train_sk, y_train_sk)"
   ]
  },
  {
   "cell_type": "code",
   "execution_count": 50,
   "metadata": {
    "id": "ZDTaghDbqyV4"
   },
   "outputs": [],
   "source": [
    "\n",
    "y_pred = regressor_sk.predict(X_test_sk)"
   ]
  },
  {
   "cell_type": "code",
   "execution_count": 51,
   "metadata": {
    "id": "xQ6Xu0uOq0uf"
   },
   "outputs": [
    {
     "data": {
      "text/plain": [
       "(40, 5)"
      ]
     },
     "execution_count": 51,
     "metadata": {},
     "output_type": "execute_result"
    }
   ],
   "source": [
    "X_train_sk.shape\n"
   ]
  },
  {
   "cell_type": "code",
   "execution_count": 52,
   "metadata": {
    "id": "CE6llxNiq30S"
   },
   "outputs": [
    {
     "name": "stdout",
     "output_type": "stream",
     "text": [
      "[353003.60726928]\n"
     ]
    }
   ],
   "source": [
    "#Making the Prediction using Sklearn Regression\n",
    "print(regressor_sk.predict([[160000,140000,5000000,1,0]]))"
   ]
  },
  {
   "cell_type": "code",
   "execution_count": 53,
   "metadata": {
    "id": "90xW5Wcrq6fc"
   },
   "outputs": [
    {
     "name": "stdout",
     "output_type": "stream",
     "text": [
      "375676.96124932356\n"
     ]
    }
   ],
   "source": [
    "#Making a Prediction\n",
    "pred = predict(theta_updated,[160000,140000,5000000,1,0,1])\n",
    "print(pred)"
   ]
  },
  {
   "cell_type": "code",
   "execution_count": null,
   "metadata": {
    "id": "cCcFXPhO9yYD"
   },
   "outputs": [],
   "source": []
  }
 ],
 "metadata": {
  "colab": {
   "provenance": []
  },
  "kernelspec": {
   "display_name": "Python 3 (ipykernel)",
   "language": "python",
   "name": "python3"
  },
  "language_info": {
   "codemirror_mode": {
    "name": "ipython",
    "version": 3
   },
   "file_extension": ".py",
   "mimetype": "text/x-python",
   "name": "python",
   "nbconvert_exporter": "python",
   "pygments_lexer": "ipython3",
   "version": "3.11.4"
  }
 },
 "nbformat": 4,
 "nbformat_minor": 1
}
